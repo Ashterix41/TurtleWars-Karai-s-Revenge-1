{
 "cells": [
  {
   "cell_type": "code",
   "execution_count": null,
   "id": "879a6872-cf33-440d-b961-30ac27c0a639",
   "metadata": {},
   "outputs": [
    {
     "name": "stdout",
     "output_type": "stream",
     "text": [
      "Choose your Turtle\n"
     ]
    },
    {
     "name": "stdin",
     "output_type": "stream",
     "text": [
      "Press 1 for Leonardo, 2 for Flareon, 3 Leafeon, 4 for Jolteon:  1\n"
     ]
    },
    {
     "name": "stdout",
     "output_type": "stream",
     "text": [
      "\n",
      "Leonardo , Turtle Power!\n",
      "\n",
      "Computer chose: Donatello : 30\n",
      "Player chose: Leonardo : 30\n",
      "\n",
      "Donatello performs Sai Drill and does 6 damage\n",
      "\n",
      "Computer chose: Donatello : 24\n",
      "Player chose: Leonardo : 30\n",
      "\n",
      "['Flying Kick', 'Katana Slash', 'Body Slam']\n"
     ]
    },
    {
     "name": "stdin",
     "output_type": "stream",
     "text": [
      "Choose Attack: Press 0,1 or 2 2\n"
     ]
    },
    {
     "name": "stdout",
     "output_type": "stream",
     "text": [
      "Leonardo performs Body Slam and does 3 damage\n",
      "\n",
      "Computer chose: Donatello : 24\n",
      "Player chose: Leonardo : 27\n",
      "\n",
      "Donatello performs Sai Drill and does 3 damage\n",
      "\n",
      "Computer chose: Donatello : 21\n",
      "Player chose: Leonardo : 27\n",
      "\n",
      "['Flying Kick', 'Katana Slash', 'Body Slam']\n"
     ]
    },
    {
     "name": "stdin",
     "output_type": "stream",
     "text": [
      "Choose Attack: Press 0,1 or 2 0\n"
     ]
    },
    {
     "name": "stdout",
     "output_type": "stream",
     "text": [
      "Leonardo performs Flying Kick and does 9 damage\n",
      "\n",
      "Computer chose: Donatello : 21\n",
      "Player chose: Leonardo : 18\n",
      "\n",
      "Donatello performs Slide Kick and does 1 damage\n",
      "\n",
      "Computer chose: Donatello : 20\n",
      "Player chose: Leonardo : 18\n",
      "\n",
      "['Flying Kick', 'Katana Slash', 'Body Slam']\n"
     ]
    },
    {
     "name": "stdin",
     "output_type": "stream",
     "text": [
      "Choose Attack: Press 0,1 or 2 1\n"
     ]
    },
    {
     "name": "stdout",
     "output_type": "stream",
     "text": [
      "Leonardo performs Katana Slash and does 2 damage\n",
      "\n",
      "Computer chose: Donatello : 20\n",
      "Player chose: Leonardo : 16\n",
      "\n",
      "Donatello performs Slide Kick and does 8 damage\n",
      "\n",
      "Computer chose: Donatello : 12\n",
      "Player chose: Leonardo : 16\n",
      "\n",
      "['Flying Kick', 'Katana Slash', 'Body Slam']\n"
     ]
    },
    {
     "name": "stdin",
     "output_type": "stream",
     "text": [
      "Choose Attack: Press 0,1 or 2 0\n"
     ]
    },
    {
     "name": "stdout",
     "output_type": "stream",
     "text": [
      "Leonardo performs Flying Kick and does 9 damage\n",
      "\n",
      "Computer chose: Donatello : 12\n",
      "Player chose: Leonardo : 7\n",
      "\n",
      "Donatello performs Elbow Punch and does 4 damage\n",
      "\n",
      "Computer chose: Donatello : 8\n",
      "Player chose: Leonardo : 7\n",
      "\n",
      "['Flying Kick', 'Katana Slash', 'Body Slam']\n"
     ]
    },
    {
     "name": "stdin",
     "output_type": "stream",
     "text": [
      "Choose Attack: Press 0,1 or 2 2\n"
     ]
    },
    {
     "name": "stdout",
     "output_type": "stream",
     "text": [
      "Leonardo performs Body Slam and does 3 damage\n",
      "\n",
      "Computer chose: Donatello : 8\n",
      "Player chose: Leonardo : 4\n",
      "\n",
      "Donatello performs Elbow Punch and does 1 damage\n",
      "\n",
      "Computer chose: Donatello : 7\n",
      "Player chose: Leonardo : 4\n",
      "\n",
      "['Flying Kick', 'Katana Slash', 'Body Slam']\n"
     ]
    },
    {
     "name": "stdin",
     "output_type": "stream",
     "text": [
      "Choose Attack: Press 0,1 or 2 1\n"
     ]
    },
    {
     "name": "stdout",
     "output_type": "stream",
     "text": [
      "Leonardo performs Katana Slash and does 3 damage\n",
      "\n",
      "Computer chose: Donatello : 7\n",
      "Player chose: Leonardo : 1\n",
      "\n",
      "Donatello performs Elbow Punch and does 7 damage\n",
      "\n",
      "Player Wins! Karai smirks and the Foot Clan gazes on over Shredder's corpse. Only 3 more turtles stand.\n",
      "\n",
      "Computer chose: Donatello : 30\n",
      "Player chose: Leonardo : 30\n",
      "\n",
      "Donatello performs Shell Shock and does 2 damage\n",
      "\n",
      "Computer chose: Donatello : 28\n",
      "Player chose: Leonardo : 30\n",
      "\n",
      "['Flying Kick', 'Katana Slash', 'Body Slam']\n"
     ]
    }
   ],
   "source": [
    "#################### TurtlesWars: Karai's Revenge #################### \n",
    "\n",
    "#################### Battle Sequence ####################\n",
    "\n",
    "def TurtleWars(PlayerAttacks,CompAttacks,CompTurtle,PlayerTurtle):\n",
    "    PlayerHealth = 30\n",
    "    CompHealth = 30\n",
    "    \n",
    "    while True:\n",
    "        print('')\n",
    "        print('Computer chose: {} : {}'.format(CompTurtle,CompHealth))\n",
    "        print('Player chose: {} : {}'.format(PlayerTurtle,PlayerHealth))\n",
    "        print('')\n",
    "        \n",
    "        ##### Attacks and Damages #####\n",
    "        \n",
    "        c =random.randint(0,2)\n",
    "        ChosenAttack = CompAttacks[c]\n",
    "        Damage = random.randint(1,10)\n",
    "        print('{} performs {} and does {} damage'.format(CompTurtle,ChosenAttack,Damage))\n",
    "        CompHealth = CompHealth - Damage\n",
    "        if CompHealth <=0:\n",
    "            print('')\n",
    "            print('Player Wins! Karai smirks and the Foot Clan gazes on over Shredder\\'s corpse. Only 3 more turtles stand.')\n",
    "            break\n",
    "        \n",
    "        print('')\n",
    "        print('Computer chose: {} : {}'.format(CompTurtle,CompHealth))\n",
    "        print('Player chose: {} : {}'.format(PlayerTurtle,PlayerHealth))\n",
    "        print('')\n",
    "        print(PlayerAttacks)\n",
    "        AttackInput = int(input('Choose Attack: Press 0,1 or 2'))\n",
    "        ChosenAttack = PlayerAttacks[AttackInput]\n",
    "        Damage = random.randint(1,10)\n",
    "        print('{} performs {} and does {} damage'.format(PlayerTurtle,ChosenAttack,Damage))\n",
    "        PlayerHealth = PlayerHealth - Damage\n",
    "        if PlayerHealth <=0:\n",
    "            print('')\n",
    "            print('Computer Wins! Karai smirks and the Foot Clan gazes on over Shredder\\'s corpse. Only 3 more turtles stand.')\n",
    "            break\n",
    "            \n",
    "#################### Main Program ####################\n",
    "\n",
    "import random\n",
    "\n",
    "#################### Player Turtle\n",
    "\n",
    "print('Choose your Turtle')\n",
    "\n",
    "PlayerInput = input('Press 1 for Leonardo, 2 for Raphael, 3 Michelangelo, 4 for Donatello: ')\n",
    "\n",
    "if PlayerInput == '1':\n",
    "    Player = 'Leonardo'\n",
    "if PlayerInput == '2':\n",
    "    Player = 'Raphael'\n",
    "if PlayerInput == '3':\n",
    "    Player = 'Michelangelo'\n",
    "if PlayerInput == '4':\n",
    "    Player = 'Donatello'\n",
    "    \n",
    "print('')\n",
    "print(Player, ', Turtle Power!')\n",
    "\n",
    "#################### Computer Turtle\n",
    "\n",
    "Turtle = ['Leonardo','Raphael','Michelangelo','Donatello']\n",
    "i = random.randint(0,3)\n",
    "Computer = Turtle[i]\n",
    "\n",
    "LeonardoAttacks = ['Flying Kick','Katana Slash','Body Slam']\n",
    "RaphaelAttacks = ['Elbow Punch','Sai Drill','Slide Kick']\n",
    "MichelangeloAttacks = ['Rolling Punch','Hand Roll','Spinning Kick']\n",
    "DonatelloAttacks = ['Head Butt','Shell Shock','Rolling Kick']\n",
    "\n",
    "#################### Battle Begins\n",
    "\n",
    "while True:\n",
    "    if Computer == 'Leonardo':\n",
    "        if Player == 'Donatello':\n",
    "            TurtleWars(DonatelloAttacks,LeonardoAttacks,Computer,Player)\n",
    "    if Player == 'Raphael':\n",
    "            TurtleWars(RaphaelAttacks,LeonardoAttacks,Computer,Player)\n",
    "    if Player == 'Michelangelo':\n",
    "            TurtleWars(MichelangeloAttacks,LeonardoAttacks,Computer,Player)\n",
    "\n",
    "    if Computer == 'Raphael':\n",
    "        if Player == 'Donatello':\n",
    "            TurtleWars(DonatelloAttacks,RaphaelAttacks,Computer,Player)\n",
    "    if Player == 'Leonardo':\n",
    "            TurtleWars(LeonardoAttacks,RaphaelAttacks,Computer,Player)\n",
    "    if Player == 'Michelangelo':\n",
    "            TurtleWars(MichelangeloAttacks,RaphaelAttacks,Computer,Player)  \n",
    "\n",
    "    if Computer == 'Donatello':\n",
    "        if Player == 'Leonardo':\n",
    "            TurtleWars(LeonardoAttacks,DonatelloAttacks,Computer,Player)\n",
    "    if Player == 'Raphael':\n",
    "            TurtleWars(RaphaelAttacks,DonatelloAttacks,Computer,Player)\n",
    "    if Player == 'Michelangelo':\n",
    "            TurtleWars(MichelangeloAttacks,DonatelloAttacks,Computer,Player)\n",
    "\n",
    "    if Computer == 'Michelangelo':\n",
    "        if Player == 'Donatello':\n",
    "            TurtleWars(JolteonAttacks,MichelangeloAttacks,Computer,Player)\n",
    "    if Player == 'Raphael':\n",
    "            TurtleWars(RaphaelAttacks,MichelangeloAttacks,Computer,Player)\n",
    "    if Player == 'Leonardo':\n",
    "            TurtleWars(LeonardoAttacks,MichelangeloAttacks,Computer,Player)\n",
    "            \n",
    "        "
   ]
  },
  {
   "cell_type": "code",
   "execution_count": null,
   "id": "d150e3e8-85aa-418d-aebe-3a153d74dda3",
   "metadata": {},
   "outputs": [],
   "source": []
  }
 ],
 "metadata": {
  "kernelspec": {
   "display_name": "Python 3 (ipykernel)",
   "language": "python",
   "name": "python3"
  },
  "language_info": {
   "codemirror_mode": {
    "name": "ipython",
    "version": 3
   },
   "file_extension": ".py",
   "mimetype": "text/x-python",
   "name": "python",
   "nbconvert_exporter": "python",
   "pygments_lexer": "ipython3",
   "version": "3.8.9"
  }
 },
 "nbformat": 4,
 "nbformat_minor": 5
}
